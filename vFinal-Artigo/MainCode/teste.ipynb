{
 "cells": [
  {
   "cell_type": "code",
   "execution_count": 8,
   "id": "9ec5fb4a",
   "metadata": {},
   "outputs": [
    {
     "name": "stdout",
     "output_type": "stream",
     "text": [
      "Coordenada (288, 179) está no grid: col=1, row=0\n",
      "\n",
      "Grid representado como matriz (6 linhas x 10 colunas):\n",
      "[[0 1 0 0 0 0 0 0 0 0]\n",
      " [0 0 0 0 0 0 0 0 0 0]\n",
      " [0 0 0 0 0 0 0 0 0 0]\n",
      " [0 0 0 0 0 0 0 0 0 0]\n",
      " [0 0 0 0 0 0 0 0 0 0]\n",
      " [0 0 0 0 0 0 0 0 0 0]]\n"
     ]
    }
   ],
   "source": [
    "import numpy as np\n",
    "\n",
    "# Dimensões da tela\n",
    "screen_width = 1920\n",
    "screen_height = 1080\n",
    "\n",
    "# Dimensões do grid\n",
    "grid_cols = 10\n",
    "grid_rows = 6\n",
    "\n",
    "# Tamanho de cada célula\n",
    "cell_width = screen_width // grid_cols\n",
    "cell_height = screen_height // grid_rows\n",
    "\n",
    "# Função para quantizar coordenadas (x, y) para o grid\n",
    "def quantize_to_grid(x, y):\n",
    "    col = min(x // cell_width, grid_cols - 1)\n",
    "    row = min(y // cell_height, grid_rows - 1)\n",
    "    return (col, row)\n",
    "\n",
    "# Exemplo de uso\n",
    "x, y = 288, 179  # Exemplo de coordenada\n",
    "col, row = quantize_to_grid(x, y)\n",
    "print(f\"Coordenada ({x}, {y}) está no grid: col={col}, row={row}\")\n",
    "\n",
    "# Opcional: criar uma matriz para representar o grid\n",
    "grid = np.zeros((grid_rows, grid_cols), dtype=int)\n",
    "\n",
    "# Marcar a célula onde o ponto está\n",
    "grid[row, col] = 1\n",
    "\n",
    "print(\"\\nGrid representado como matriz (6 linhas x 10 colunas):\")\n",
    "print(grid)"
   ]
  },
  {
   "cell_type": "code",
   "execution_count": 9,
   "id": "9ee322fa",
   "metadata": {},
   "outputs": [
    {
     "name": "stdout",
     "output_type": "stream",
     "text": [
      "Coordenada (500, 300) está na célula com centro em: (480, 270)\n"
     ]
    }
   ],
   "source": [
    "def get_grid_center(x, y):\n",
    "    col = min(x // cell_width, grid_cols - 1)\n",
    "    row = min(y // cell_height, grid_rows - 1)\n",
    "    \n",
    "    # Calcula o centro da célula\n",
    "    x_center = (col * cell_width) + (cell_width // 2)\n",
    "    y_center = (row * cell_height) + (cell_height // 2)\n",
    "    \n",
    "    return (x_center, y_center)\n",
    "\n",
    "# Exemplo de uso\n",
    "x, y = 500, 300  # Coordenada de exemplo\n",
    "x_center, y_center = get_grid_center(x, y)\n",
    "\n",
    "print(f\"Coordenada ({x}, {y}) está na célula com centro em: ({x_center}, {y_center})\")"
   ]
  },
  {
   "cell_type": "code",
   "execution_count": 22,
   "id": "a0a30486",
   "metadata": {},
   "outputs": [
    {
     "name": "stdout",
     "output_type": "stream",
     "text": [
      "Valor escalonado: 0.0\n",
      "Porcentagem: 0.0 %\n"
     ]
    }
   ],
   "source": [
    "# Dados originais\n",
    "pitch_min = 0.14\n",
    "pitch_max = 0.5\n",
    "input_pitch = 0.14\n",
    "\n",
    "# 1. Calcula o offset para deslocar o mínimo para 0\n",
    "pitch_offset = -pitch_min  # pitch_offset = 0.14\n",
    "\n",
    "# 2. Escalona o valor de entrada\n",
    "escalonado = input_pitch + pitch_offset  # 0.27 + 0.14 = 0.41\n",
    "\n",
    "# 3. Calcula o novo máximo escalonado\n",
    "pitch_max_escalonado = pitch_max + pitch_offset  # 0.27 + 0.14 = 0.41\n",
    "\n",
    "# 4. Calcula a porcentagem no range escalonado (0 a pitch_max_escalonado)\n",
    "porcentagem = (escalonado / pitch_max_escalonado) * 100  # (0.41 / 0.41) * 100 = 100%\n",
    "\n",
    "print(\"Valor escalonado:\", escalonado)  # Saída: 0.41\n",
    "print(\"Porcentagem:\", porcentagem, \"%\")  # Saída: 100.0 %"
   ]
  },
  {
   "cell_type": "code",
   "execution_count": 2,
   "id": "04316d5a",
   "metadata": {},
   "outputs": [
    {
     "name": "stdout",
     "output_type": "stream",
     "text": [
      "Valor escalonado: 0.73\n",
      "Porcentagem: 1894.0540540540542\n"
     ]
    }
   ],
   "source": [
    "# Dados originais (ambos positivos)\n",
    "pitch_min = -0.24\n",
    "pitch_max = 0.5\n",
    "input_pitch = 0.49\n",
    "\n",
    "# 1. Calcula o offset para deslocar o mínimo para 0\n",
    "pitch_offset = -pitch_min  # -0.14\n",
    "\n",
    "# 2. Escalona o valor de entrada\n",
    "escalonado = input_pitch + pitch_offset  # 0.14 + (-0.14) = 0.0\n",
    "\n",
    "# 3. Calcula o novo máximo escalonado\n",
    "pitch_max_escalonado = pitch_max + pitch_offset  # 0.5 + (-0.14) = 0.36\n",
    "\n",
    "# 4. Calcula a porcentagem no range escalonado (0 a pitch_max_escalonado)\n",
    "porcentagem = (escalonado / pitch_max_escalonado) * 1920  # (0.0 / 0.36) * 100 = 0.0%\n",
    "\n",
    "print(\"Valor escalonado:\", escalonado)  # Saída: 0.0\n",
    "print(\"Porcentagem:\", porcentagem)  # Saída: 0.0%"
   ]
  },
  {
   "cell_type": "code",
   "execution_count": null,
   "id": "8548452d",
   "metadata": {},
   "outputs": [
    {
     "name": "stdout",
     "output_type": "stream",
     "text": [
      "[[-4.2912440e-01 -2.8342914e-03  5.0000000e+01  5.0000000e+01]\n",
      " [ 1.6559495e-01 -1.4220923e-01  1.8700000e+03  5.0000000e+01]\n",
      " [-1.9365984e-01 -3.0669720e-01  9.6000000e+02  5.4000000e+02]\n",
      " [-5.2885540e-01 -3.7399860e-01  5.0000000e+01  1.0300000e+03]\n",
      " [ 2.4031176e-01 -4.2906272e-01  1.8700000e+03  1.0300000e+03]]\n"
     ]
    }
   ],
   "source": [
    "import csv\n",
    "def load_and_convert_csv(file_path):\n",
    "    data = []\n",
    "    with open(file_path, newline='') as f:\n",
    "        reader = csv.reader(f)\n",
    "        for row in reader:\n",
    "            # Converte cada valor na linha para float\n",
    "            try:\n",
    "                converted_row = [float(value) for value in row]\n",
    "                data.append(converted_row)\n",
    "            except ValueError as e:\n",
    "                print(f\"Aviso: Não foi possível converter a linha {row}: {e}\")\n",
    "                continue\n",
    "    return np.array(data)\n",
    "\n",
    "file_path = 'calib_10xPonto/calib12/calib_file12_5pontos.csv'\n",
    "data = load_and_convert_csv(file_path)"
   ]
  },
  {
   "cell_type": "code",
   "execution_count": 68,
   "id": "c365800e",
   "metadata": {},
   "outputs": [
    {
     "name": "stdout",
     "output_type": "stream",
     "text": [
      "[-1.9365984e-01 -3.0669720e-01  9.6000000e+02  5.4000000e+02]\n"
     ]
    }
   ],
   "source": [
    "firstQ = data[0]\n",
    "secondQ = data[1]\n",
    "center = data[2]\n",
    "thirdQ = data[3]\n",
    "forthQ = data[4]\n",
    "print(center)"
   ]
  },
  {
   "cell_type": "code",
   "execution_count": null,
   "id": "757251d7",
   "metadata": {},
   "outputs": [
    {
     "name": "stdout",
     "output_type": "stream",
     "text": [
      "1919.3103474973939\n",
      "1079.7232161478169\n"
     ]
    }
   ],
   "source": [
    "p, y = 0.24, -.429\n",
    "width, height = 1920/2, 1080/2\n",
    "\n",
    "if p < center[0]:\n",
    "    #primeiro quadrante\n",
    "    if y > center[1]:\n",
    "        pitch_offset = -firstQ[0] \n",
    "        pitch_escalonado = p + pitch_offset\n",
    "        pitch_max_escalonado = center[0] + pitch_offset\n",
    "        pos_x = (pitch_escalonado / pitch_max_escalonado) * width\n",
    "\n",
    "        yaw_offset = -firstQ[1]\n",
    "        yaw_escalonado = y + yaw_offset\n",
    "        yaw_max_escalonado = center[1] + yaw_offset\n",
    "        pos_y = (yaw_escalonado / yaw_max_escalonado) * height\n",
    "\n",
    "    #terceiro quadrante\n",
    "    elif y < center[1]:\n",
    "        pitch_offset = -thirdQ[0] \n",
    "        pitch_escalonado = p + pitch_offset\n",
    "        pitch_max_escalonado = center[0] + pitch_offset\n",
    "        pos_x = (pitch_escalonado / pitch_max_escalonado) * width\n",
    "\n",
    "        yaw_offset = -center[1]\n",
    "        yaw_escalonado = y + yaw_offset\n",
    "        yaw_max_escalonado = thirdQ[1] + yaw_offset\n",
    "        pos_y = (yaw_escalonado / yaw_max_escalonado) * height + 540\n",
    "\n",
    "if p > center[0]:\n",
    "    #segundo quadrante\n",
    "    if y > center[1]:\n",
    "        pitch_offset = -center[0]\n",
    "        pitch_escalonado = p + pitch_offset\n",
    "        pitch_max_escalonado = secondQ[0] + pitch_offset\n",
    "        pos_x = (pitch_escalonado / pitch_max_escalonado) * width + 960\n",
    "\n",
    "        yaw_offset = -secondQ[1]\n",
    "        yaw_escalonado = y + yaw_offset\n",
    "        yaw_max_escalonado = center[1] + yaw_offset\n",
    "        pos_y = (yaw_escalonado / yaw_max_escalonado) * height\n",
    "\n",
    "    #quarto quadrante\n",
    "    elif y < center[1]:\n",
    "        pitch_offset = -center[0] \n",
    "        pitch_escalonado = p + pitch_offset\n",
    "        pitch_max_escalonado = forthQ[0] + pitch_offset\n",
    "        pos_x = (pitch_escalonado / pitch_max_escalonado) * width + 960\n",
    "\n",
    "        yaw_offset = -center[1]\n",
    "        yaw_escalonado = y + yaw_offset\n",
    "        yaw_max_escalonado = forthQ[1] + yaw_offset\n",
    "        pos_y = (yaw_escalonado / yaw_max_escalonado) * height + 540\n",
    "\n",
    "\n",
    "print(pos_x)\n",
    "print(pos_y)"
   ]
  },
  {
   "cell_type": "code",
   "execution_count": 8,
   "id": "83624f9e",
   "metadata": {},
   "outputs": [],
   "source": [
    "import numpy as np\n",
    "import csv\n",
    "def load_and_convert_csv(file_path):\n",
    "    data = []\n",
    "    with open(file_path, newline='') as f:\n",
    "        reader = csv.reader(f)\n",
    "        for row in reader:\n",
    "            # Converte cada valor na linha para float\n",
    "            try:\n",
    "                converted_row = [float(value) for value in row]\n",
    "                data.append(converted_row)\n",
    "            except ValueError as e:\n",
    "                print(f\"Aviso: Não foi possível converter a linha {row}: {e}\")\n",
    "                continue\n",
    "    return np.array(data)"
   ]
  },
  {
   "cell_type": "code",
   "execution_count": null,
   "id": "103b16f8",
   "metadata": {},
   "outputs": [],
   "source": [
    "file_path = 'calib_10xPonto/calib12/calib_file12_pt2.csv'\n",
    "data = load_and_convert_csv(file_path)"
   ]
  },
  {
   "cell_type": "code",
   "execution_count": 14,
   "id": "38c1cb18",
   "metadata": {},
   "outputs": [
    {
     "data": {
      "text/plain": [
       "np.float64(-0.501268325)"
      ]
     },
     "execution_count": 14,
     "metadata": {},
     "output_type": "execute_result"
    }
   ],
   "source": [
    "pitch_min = np.mean( (data[0][0], data[2][0]))\n",
    "pitch_min"
   ]
  }
 ],
 "metadata": {
  "kernelspec": {
   "display_name": "Python 3",
   "language": "python",
   "name": "python3"
  },
  "language_info": {
   "codemirror_mode": {
    "name": "ipython",
    "version": 3
   },
   "file_extension": ".py",
   "mimetype": "text/x-python",
   "name": "python",
   "nbconvert_exporter": "python",
   "pygments_lexer": "ipython3",
   "version": "3.10.11"
  }
 },
 "nbformat": 4,
 "nbformat_minor": 5
}
