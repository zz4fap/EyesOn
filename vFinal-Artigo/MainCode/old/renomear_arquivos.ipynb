{
 "cells": [
  {
   "cell_type": "code",
   "execution_count": null,
   "metadata": {},
   "outputs": [
    {
     "name": "stdout",
     "output_type": "stream",
     "text": [
      "Renomeado: f0.csv -> calib_all0.csv\n",
      "Renomeado: f1.csv -> calib_all1.csv\n",
      "Renomeado: f10.csv -> calib_all2.csv\n",
      "Renomeado: f11.csv -> calib_all3.csv\n",
      "Renomeado: f12.csv -> calib_all4.csv\n",
      "Renomeado: f13.csv -> calib_all5.csv\n",
      "Renomeado: f14.csv -> calib_all6.csv\n",
      "Renomeado: f15.csv -> calib_all7.csv\n",
      "Renomeado: f16.csv -> calib_all8.csv\n",
      "Renomeado: f17.csv -> calib_all9.csv\n",
      "Renomeado: f18.csv -> calib_all10.csv\n",
      "Renomeado: f19.csv -> calib_all11.csv\n",
      "Renomeado: f2.csv -> calib_all12.csv\n",
      "Renomeado: f20.csv -> calib_all13.csv\n",
      "Renomeado: f21.csv -> calib_all14.csv\n",
      "Renomeado: f22.csv -> calib_all15.csv\n",
      "Renomeado: f23.csv -> calib_all16.csv\n",
      "Renomeado: f24.csv -> calib_all17.csv\n",
      "Renomeado: f25.csv -> calib_all18.csv\n",
      "Renomeado: f26.csv -> calib_all19.csv\n",
      "Renomeado: f27.csv -> calib_all20.csv\n",
      "Renomeado: f28.csv -> calib_all21.csv\n",
      "Renomeado: f29.csv -> calib_all22.csv\n",
      "Renomeado: f3.csv -> calib_all23.csv\n",
      "Renomeado: f30.csv -> calib_all24.csv\n",
      "Renomeado: f31.csv -> calib_all25.csv\n",
      "Renomeado: f32.csv -> calib_all26.csv\n",
      "Renomeado: f33.csv -> calib_all27.csv\n",
      "Renomeado: f34.csv -> calib_all28.csv\n",
      "Renomeado: f35.csv -> calib_all29.csv\n",
      "Renomeado: f36.csv -> calib_all30.csv\n",
      "Renomeado: f37.csv -> calib_all31.csv\n",
      "Renomeado: f38.csv -> calib_all32.csv\n",
      "Renomeado: f39.csv -> calib_all33.csv\n",
      "Renomeado: f4.csv -> calib_all34.csv\n",
      "Renomeado: f5.csv -> calib_all35.csv\n",
      "Renomeado: f6.csv -> calib_all36.csv\n",
      "Renomeado: f7.csv -> calib_all37.csv\n",
      "Renomeado: f8.csv -> calib_all38.csv\n",
      "Renomeado: f9.csv -> calib_all39.csv\n"
     ]
    }
   ],
   "source": [
    "import os\n",
    "def renomear_arquivos(pasta, aux = 0):\n",
    "    for filename in os.listdir(pasta):\n",
    "        old_path = os.path.join(pasta, filename)\n",
    "        if os.path.isfile(old_path):  # Garante que é um arquivo, não uma pasta\n",
    "            new_filename = f\"calib_all{aux}.csv\"\n",
    "            new_path = os.path.join(pasta, new_filename)\n",
    "            os.rename(old_path, new_path)\n",
    "            print(f'Renomeado: {filename} -> {new_filename}')\n",
    "        aux+=1\n",
    "\n",
    "# Defina o caminho da pasta desejada\n",
    "pasta_alvo = \"/calib_10xPonto/calib_all\"\n",
    "renomear_arquivos(pasta_alvo)\n"
   ]
  }
 ],
 "metadata": {
  "kernelspec": {
   "display_name": "Python 3",
   "language": "python",
   "name": "python3"
  },
  "language_info": {
   "codemirror_mode": {
    "name": "ipython",
    "version": 3
   },
   "file_extension": ".py",
   "mimetype": "text/x-python",
   "name": "python",
   "nbconvert_exporter": "python",
   "pygments_lexer": "ipython3",
   "version": "3.10.11"
  }
 },
 "nbformat": 4,
 "nbformat_minor": 2
}
